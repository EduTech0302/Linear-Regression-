{
 "cells": [
  {
   "cell_type": "markdown",
   "id": "06cfa82f",
   "metadata": {},
   "source": [
    "## Importing libraries"
   ]
  },
  {
   "cell_type": "code",
   "execution_count": 1,
   "id": "30cf2d50",
   "metadata": {},
   "outputs": [],
   "source": [
    "\n",
    "from sklearn.preprocessing import StandardScaler\n",
    "from sklearn.linear_model import LinearRegression\n",
    "from sklearn.metrics import r2_score\n",
    "import pandas as pd\n",
    "import numpy as np\n",
    "import matplotlib.pyplot as plt\n",
    "from sklearn.preprocessing import StandardScaler\n",
    "from sklearn.linear_model import LinearRegression\n",
    "from sklearn.metrics import r2_score\n",
    "import pandas as pd\n",
    "import numpy as np\n",
    "import matplotlib.pyplot as plt"
   ]
  },
  {
   "cell_type": "markdown",
   "id": "6c3cf053",
   "metadata": {},
   "source": [
    "## Reading excel files"
   ]
  },
  {
   "cell_type": "code",
   "execution_count": 2,
   "id": "8cc249da",
   "metadata": {},
   "outputs": [],
   "source": [
    "Training_data=pd.read_excel(r'C:\\Users\\HP\\Dropbox\\PC\\Desktop\\project\\Copy of Model_Set.xlsx', sheet_name=\"Training\") \n",
    "Test_data=pd.read_excel(r'C:\\Users\\HP\\Dropbox\\PC\\Desktop\\project\\Copy of Model_Set.xlsx', sheet_name=\"Test\") \n",
    "\n",
    "SourceData_train_independent= Training_data.drop([\"Impedence\"], axis=1)\n",
    "SourceData_train_dependent=Training_data[\"Impedence\"].copy()\n",
    "\n",
    "SourceData_test_independent=Test_data.drop([\"Impedence\"], axis=1)\n",
    "SourceData_test_dependent=Test_data[\"Impedence\"].copy()"
   ]
  },
  {
   "cell_type": "markdown",
   "id": "e0aec970",
   "metadata": {},
   "source": [
    "## creating regression model"
   ]
  },
  {
   "cell_type": "code",
   "execution_count": 3,
   "id": "46a9b81a",
   "metadata": {
    "scrolled": true
   },
   "outputs": [
    {
     "name": "stdout",
     "output_type": "stream",
     "text": [
      "The Linear regression score on training data is  0.98\n",
      "[68.73596021 83.86690755 82.42445515 74.62761173 72.09589235 74.48146289\n",
      " 74.95182217 83.39800351 81.98908576 80.11515005 68.83888713 75.6393681\n",
      " 78.21899298 87.80018201 71.95558428 72.4482886  93.6211964  81.62563321]\n"
     ]
    },
    {
     "name": "stderr",
     "output_type": "stream",
     "text": [
      "C:\\Users\\HP\\anaconda3\\lib\\site-packages\\sklearn\\base.py:443: UserWarning: X has feature names, but StandardScaler was fitted without feature names\n",
      "  warnings.warn(\n"
     ]
    }
   ],
   "source": [
    "sc_X = StandardScaler()\n",
    "\n",
    "X_train=sc_X.fit_transform(SourceData_train_independent.values)\n",
    "y_train=SourceData_train_dependent\n",
    "\n",
    "X_test=sc_X.transform(SourceData_test_independent)\n",
    "y_test=SourceData_test_dependent\n",
    "reg = LinearRegression().fit(X_train, y_train)\n",
    "print(\"The Linear regression score on training data is \", round(reg.score(X_train, y_train),2))\n",
    "predict=reg.predict(X_test)\n",
    "print(predict)"
   ]
  },
  {
   "cell_type": "markdown",
   "id": "b5dc7368",
   "metadata": {},
   "source": [
    "## plots"
   ]
  },
  {
   "cell_type": "code",
   "execution_count": 4,
   "id": "859d852c",
   "metadata": {},
   "outputs": [
    {
     "data": {
      "text/plain": [
       "[<matplotlib.lines.Line2D at 0x17c3f1064c0>]"
      ]
     },
     "execution_count": 4,
     "metadata": {},
     "output_type": "execute_result"
    },
    {
     "data": {
      "image/png": "[encoded data removed]",
      "text/plain": [
       "<Figure size 432x288 with 1 Axes>"
      ]
     },
     "metadata": {
      "needs_background": "light"
     },
     "output_type": "display_data"
    }
   ],
   "source": [
    "\n",
    "import matplotlib.pyplot as plt\n",
    "plt.plot(predict, SourceData_test_dependent, 'o')\n",
    "m, b = np.polyfit(predict, SourceData_test_dependent, 1)\n",
    "plt.plot(predict, m*predict+b)\n"
   ]
  },
  {
   "cell_type": "markdown",
   "id": "24d1c6ac",
   "metadata": {},
   "source": [
    "## Ploting Errors "
   ]
  },
  {
   "cell_type": "code",
   "execution_count": 8,
   "id": "d7608df2",
   "metadata": {},
   "outputs": [
    {
     "name": "stdout",
     "output_type": "stream",
     "text": [
      "Mean Absolute Error: 0.8771675680278039\n",
      "Mean Squared Error: 2.1978306391507423\n",
      "Root mean square error: 1.4825082256603983\n"
     ]
    }
   ],
   "source": [
    "\n",
    "from sklearn.metrics import mean_absolute_error,mean_squared_error\n",
    "  \n",
    "mae = mean_absolute_error(predict,SourceData_test_dependent)\n",
    "#squared True returns MSE value, False returns RMSE value.\n",
    "mse = mean_squared_error(predict,SourceData_test_dependent) #default=True\n",
    "rmse = mean_squared_error(predict,SourceData_test_dependent,squared=False)\n",
    "  \n",
    "print(\"Mean Absolute Error:\",mae)\n",
    "print(\"Mean Squared Error:\",mse)\n",
    "print(\"Root mean square error:\",rmse)"
   ]
  },
  {
   "cell_type": "code",
   "execution_count": 9,
   "id": "aec37722",
   "metadata": {},
   "outputs": [
    {
     "data": {
      "image/png": "[encoded data removed]",
      "text/plain": [
       "<Figure size 432x288 with 1 Axes>"
      ]
     },
     "metadata": {
      "needs_background": "light"
     },
     "output_type": "display_data"
    }
   ],
   "source": [
    "theta_values = np.linspace(0, 6, 244)\n",
    "\n",
    "\n",
    "def sqr_err(predict, SourceData_test_dependent):\n",
    "    if len(predict) != len(SourceData_test_dependent):\n",
    "        raise IndexError(\"Mismathced array sizes, you inputted arrays with sizes {} and {}\".format(len(predict),\n",
    "                                                                                                  len(SourceData_test_dependent)))\n",
    "    else:\n",
    "        length = len(predict)\n",
    "\n",
    "    sqrerror_out = [(SourceData_test_dependent[i]-predict[i])**2 for i in range(length)]\n",
    "\n",
    "    return np.array(sqrerror_out)\n",
    "\n",
    "Squared_error = sqr_err(predict, SourceData_test_dependent)\n",
    "\n",
    "plt.figure()\n",
    "plt.plot(SourceData_test_dependent, Squared_error,)\n",
    "plt.title(\"plotting mean square error\")\n",
    "plt.xlabel('acutal data')\n",
    "plt.ylabel('Squared Error')\n",
    "plt.show()"
   ]
  },
  {
   "cell_type": "markdown",
   "id": "2ecddaa4",
   "metadata": {},
   "source": [
    "## Exporting to excel"
   ]
  },
  {
   "cell_type": "code",
   "execution_count": 7,
   "id": "e34859a0",
   "metadata": {},
   "outputs": [],
   "source": [
    "data=pd.DataFrame({'result': predict})\n",
    "datatoexcel = pd.ExcelWriter(r'C:\\Users\\HP\\Dropbox\\PC\\Desktop\\project\\result.xlsx',engine='xlsxwriter')\n",
    "data.to_excel(datatoexcel,sheet_name='result')\n",
    "datatoexcel.save()\n"
   ]
  }
 ],
 "metadata": {
  "kernelspec": {
   "display_name": "Python 3 (ipykernel)",
   "language": "python",
   "name": "python3"
  },
  "language_info": {
   "codemirror_mode": {
    "name": "ipython",
    "version": 3
   },
   "file_extension": ".py",
   "mimetype": "text/x-python",
   "name": "python",
   "nbconvert_exporter": "python",
   "pygments_lexer": "ipython3",
   "version": "3.9.12"
  }
 },
 "nbformat": 4,
 "nbformat_minor": 5
}
